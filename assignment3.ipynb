{
 "cells": [
  {
   "cell_type": "code",
   "execution_count": null,
   "metadata": {},
   "outputs": [
    {
     "name": "stdout",
     "output_type": "stream",
     "text": [
      "{'a': 1, 'b': 2, 'c': 3}\n"
     ]
    }
   ],
   "source": [
    "#ANS1\n",
    "keys = ['a', 'b', 'c']\n",
    "values = [1, 2, 3]\n",
    "\n",
    "merge_lists = lambda keys, values: dict(zip(keys, values))\n",
    "\n",
    "result = merge_lists(keys, values)\n",
    "print(result)\n"
   ]
  },
  {
   "cell_type": "code",
   "execution_count": null,
   "metadata": {},
   "outputs": [
    {
     "name": "stdout",
     "output_type": "stream",
     "text": [
      "Discounted price of Laptop: $900.0\n",
      "Discounted price of Smartphone: $450.0\n"
     ]
    }
   ],
   "source": [
    "#ANS2\n",
    "class Product:\n",
    "    discount_rate = 0.1  \n",
    "    def __init__(self, name, price):\n",
    "        self.name = name\n",
    "        self.price = price\n",
    "\n",
    "    def calculate_discounted_price(self):\n",
    "        discounted_price = self.price * (1 - Product.discount_rate)\n",
    "        return discounted_price\n",
    "product1 = Product(\"Laptop\", 1000)\n",
    "product2 = Product(\"Smartphone\", 500)\n",
    "\n",
    "print(f\"Discounted price of {product1.name}: ${product1.calculate_discounted_price()}\")\n",
    "print(f\"Discounted price of {product2.name}: ${product2.calculate_discounted_price()}\")\n"
   ]
  },
  {
   "cell_type": "code",
   "execution_count": null,
   "metadata": {},
   "outputs": [
    {
     "name": "stdout",
     "output_type": "stream",
     "text": [
      "Area of Circle: 78.54\n",
      "Area of Rectangle: 24.00\n"
     ]
    }
   ],
   "source": [
    "#ANS3\n",
    "import math\n",
    "class Shape:\n",
    "    def area(self):\n",
    "        raise NotImplementedError(\"Subclass must implement abstract method\")\n",
    "class Circle(Shape):\n",
    "    def __init__(self, radius):\n",
    "        self.radius = radius\n",
    "\n",
    "    def area(self):\n",
    "        return math.pi * (self.radius ** 2)\n",
    "class Rectangle(Shape):\n",
    "    def __init__(self, length, width):\n",
    "        self.length = length\n",
    "        self.width = width\n",
    "\n",
    "    def area(self):\n",
    "        return self.length * self.width\n",
    "circle = Circle(5)\n",
    "rectangle = Rectangle(4, 6)\n",
    "\n",
    "print(f\"Area of Circle: {circle.area():.2f}\")\n",
    "print(f\"Area of Rectangle: {rectangle.area():.2f}\")\n"
   ]
  },
  {
   "cell_type": "code",
   "execution_count": null,
   "metadata": {},
   "outputs": [
    {
     "name": "stdout",
     "output_type": "stream",
     "text": [
      "Name: Alice, Age: 40, Employee ID: M123, Salary: $90000, Department: HR\n"
     ]
    }
   ],
   "source": [
    "#ANS4\n",
    "class Person:\n",
    "    def __init__(self, name, age):\n",
    "        self.name = name\n",
    "        self.age = age\n",
    "\n",
    "    def display_person_info(self):\n",
    "        return f\"Name: {self.name}, Age: {self.age}\"\n",
    "class Employee:\n",
    "    def __init__(self, employee_id, salary):\n",
    "        self.employee_id = employee_id\n",
    "        self.salary = salary\n",
    "\n",
    "    def display_employee_info(self):\n",
    "        return f\"Employee ID: {self.employee_id}, Salary: ${self.salary}\"\n",
    "class Manager(Person, Employee):\n",
    "    def __init__(self, name, age, employee_id, salary, department):\n",
    "        Person.__init__(self, name, age)\n",
    "        Employee.__init__(self, employee_id, salary)\n",
    "        self.department = department\n",
    "\n",
    "    def display_manager_info(self):\n",
    "        person_info = self.display_person_info()\n",
    "        employee_info = self.display_employee_info()\n",
    "        return f\"{person_info}, {employee_info}, Department: {self.department}\"\n",
    "manager = Manager(\"Alice\", 40, \"M123\", 90000, \"HR\")\n",
    "\n",
    "print(manager.display_manager_info())\n"
   ]
  },
  {
   "cell_type": "code",
   "execution_count": null,
   "metadata": {},
   "outputs": [
    {
     "name": "stdout",
     "output_type": "stream",
     "text": [
      "Woof!\n",
      "Meow!\n",
      "Moo!\n"
     ]
    }
   ],
   "source": [
    "#ANS5\n",
    "class Animal:\n",
    "    def make_sound(self):\n",
    "        pass\n",
    "class Dog(Animal):\n",
    "    def make_sound(self):\n",
    "        return \"Woof!\"\n",
    "class Cat(Animal):\n",
    "    def make_sound(self):\n",
    "        return \"Meow!\"\n",
    "class Cow(Animal):\n",
    "    def make_sound(self):\n",
    "        return \"Moo!\"\n",
    "def play_sound(animal: Animal):\n",
    "    print(animal.make_sound())\n",
    "dog = Dog()\n",
    "cat = Cat()\n",
    "cow = Cow()\n",
    "\n",
    "play_sound(dog)  \n",
    "play_sound(cat)  \n",
    "play_sound(cow)  \n"
   ]
  },
  {
   "cell_type": "code",
   "execution_count": 9,
   "metadata": {},
   "outputs": [
    {
     "name": "stdout",
     "output_type": "stream",
     "text": [
      "Vehicle rented: Toyota Camry, Rental Rate: $50/day, Type: Sedan, Doors: 4. Total rental cost: $150\n",
      "Vehicle rented: Harley-Davidson Sportster, Rental Rate: $100/day, Type: Cruiser. Total rental cost: $200\n",
      "Rented Vehicles:\n",
      "Toyota Camry, Rental Rate: $50/day, Type: Sedan, Doors: 4\n",
      "Harley-Davidson Sportster, Rental Rate: $100/day, Type: Cruiser\n"
     ]
    }
   ],
   "source": [
    "#ANS5\n",
    "class Vehicle:\n",
    "    def __init__(self, make, model, rental_rate):\n",
    "        self.make = make\n",
    "        self.model = model\n",
    "        self.rental_rate = rental_rate \n",
    "    def display_info(self):\n",
    "        return f\"{self.make} {self.model}, Rental Rate: ${self.rental_rate}/day\"\n",
    "class Car(Vehicle):\n",
    "    def __init__(self, make, model, rental_rate, num_doors, car_type):\n",
    "        super().__init__(make, model, rental_rate)\n",
    "        self.num_doors = num_doors  \n",
    "        self.car_type = car_type  \n",
    "    def display_info(self):\n",
    "        vehicle_info = super().display_info()\n",
    "        return f\"{vehicle_info}, Type: {self.car_type}, Doors: {self.num_doors}\"\n",
    "class Bike(Vehicle):\n",
    "    def __init__(self, make, model, rental_rate, bike_type):\n",
    "        super().__init__(make, model, rental_rate)\n",
    "        self.bike_type = bike_type  \n",
    "    def display_info(self):\n",
    "        vehicle_info = super().display_info()\n",
    "        return f\"{vehicle_info}, Type: {self.bike_type}\"\n",
    "class RentalSystem:\n",
    "    def __init__(self):\n",
    "        self.rented_vehicles = []  \n",
    "    def rent_vehicle(self, vehicle, days):\n",
    "        rental_cost = vehicle.rental_rate * days\n",
    "        self.rented_vehicles.append(vehicle)\n",
    "        return f\"Vehicle rented: {vehicle.display_info()}. Total rental cost: ${rental_cost}\"\n",
    "\n",
    "    def show_rented_vehicles(self):\n",
    "        print(\"Rented Vehicles:\")\n",
    "        for vehicle in self.rented_vehicles:\n",
    "            print(vehicle.display_info())\n",
    "if __name__ == \"__main__\":\n",
    "    car1 = Car(\"Toyota\", \"Camry\", 50, 4, \"Sedan\")\n",
    "    bike1 = Bike(\"Harley-Davidson\", \"Sportster\", 100, \"Cruiser\")\n",
    "    rental_system = RentalSystem()\n",
    "    print(rental_system.rent_vehicle(car1, 3))  \n",
    "    print(rental_system.rent_vehicle(bike1, 2)) \n",
    "    rental_system.show_rented_vehicles()\n"
   ]
  }
 ],
 "metadata": {
  "kernelspec": {
   "display_name": "Python 3",
   "language": "python",
   "name": "python3"
  },
  "language_info": {
   "codemirror_mode": {
    "name": "ipython",
    "version": 3
   },
   "file_extension": ".py",
   "mimetype": "text/x-python",
   "name": "python",
   "nbconvert_exporter": "python",
   "pygments_lexer": "ipython3",
   "version": "3.11.9"
  }
 },
 "nbformat": 4,
 "nbformat_minor": 2
}
